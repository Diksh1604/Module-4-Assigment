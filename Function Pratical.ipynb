{
 "cells": [
  {
   "cell_type": "markdown",
   "id": "154ebda2-2688-47d8-984f-2b44f7fc0064",
   "metadata": {},
   "source": [
    "Ans1:-"
   ]
  },
  {
   "cell_type": "code",
   "execution_count": 1,
   "id": "d727cf74-891c-433f-bbc9-79b0caf6ccf7",
   "metadata": {},
   "outputs": [],
   "source": [
    "def sum_of_even_numbers(numbers):\n",
    "    return sum(num for num in numbers if num % 2 == 0)"
   ]
  },
  {
   "cell_type": "code",
   "execution_count": 2,
   "id": "a7b07ed2-0657-455a-a632-5477195b8dfb",
   "metadata": {},
   "outputs": [
    {
     "name": "stdout",
     "output_type": "stream",
     "text": [
      "2\n"
     ]
    }
   ],
   "source": [
    "numbers = [2, 5, 3, 7, 9]\n",
    "result = sum_of_even_numbers(numbers)\n",
    "print(result)"
   ]
  },
  {
   "cell_type": "markdown",
   "id": "3761a127-4edb-47d3-a6fd-b6ade83e9292",
   "metadata": {},
   "source": [
    "Ans2:-"
   ]
  },
  {
   "cell_type": "code",
   "execution_count": 7,
   "id": "ce2f3c05-bea9-4cf1-89db-1f6426905d50",
   "metadata": {},
   "outputs": [],
   "source": [
    "def reverse_string(input_string):\n",
    "    return input_string[::-1]"
   ]
  },
  {
   "cell_type": "code",
   "execution_count": 8,
   "id": "6a205d7d-9e68-47d5-bc1c-84b34d7f1f01",
   "metadata": {},
   "outputs": [
    {
     "name": "stdout",
     "output_type": "stream",
     "text": [
      "inrehs ik apaP\n"
     ]
    }
   ],
   "source": [
    "print(reverse_string(\"Papa ki sherni\")) "
   ]
  },
  {
   "cell_type": "markdown",
   "id": "a353b068-413f-4a85-9da1-d121ce4c78b5",
   "metadata": {},
   "source": [
    "Ans3:-"
   ]
  },
  {
   "cell_type": "code",
   "execution_count": 9,
   "id": "4f9b7da1-85dd-49e9-9428-96eb8fdfb1cd",
   "metadata": {},
   "outputs": [],
   "source": [
    "def square_numbers(numbers):\n",
    "    return [num ** 2 for num in numbers]"
   ]
  },
  {
   "cell_type": "code",
   "execution_count": 10,
   "id": "f99a5006-b7e7-4d9e-9b16-37c852f4c274",
   "metadata": {},
   "outputs": [
    {
     "name": "stdout",
     "output_type": "stream",
     "text": [
      "[4, 100, 1849, 441, 6084]\n"
     ]
    }
   ],
   "source": [
    "numbers = [2, 10, 43, 21, 78]\n",
    "squared_numbers = square_numbers(numbers)\n",
    "print(squared_numbers)"
   ]
  },
  {
   "cell_type": "markdown",
   "id": "457dd1ee-e3df-4e06-8a17-8a135bb9dc4f",
   "metadata": {},
   "source": [
    "Ans4:-"
   ]
  },
  {
   "cell_type": "code",
   "execution_count": 12,
   "id": "d201dc7f-92f2-4213-b3f9-fd109ca44d83",
   "metadata": {},
   "outputs": [],
   "source": [
    "def is_prime(num):\n",
    "    if num <= 1:\n",
    "        return False\n",
    "    if num <= 3:\n",
    "        return True\n",
    "    if num % 2 == 0 or num % 3 == 0:\n",
    "        return False\n",
    "    \n",
    "    i = 5\n",
    "    while i * i <= num:\n",
    "        if num % i == 0 or num % (i + 2) == 0:\n",
    "            return False\n",
    "        i += 6\n",
    "        return True\n",
    "    \n",
    "    for num in range(1, 201):\n",
    "        if is_prime(num):\n",
    "            print(num, \"is prime\")"
   ]
  },
  {
   "cell_type": "markdown",
   "id": "6357aef4-bcec-4be2-be9e-4d6b6f9a1a37",
   "metadata": {},
   "source": [
    "Ans 5:-"
   ]
  },
  {
   "cell_type": "code",
   "execution_count": null,
   "id": "abe680eb-5602-495b-9f54-7480ecf688bb",
   "metadata": {},
   "outputs": [],
   "source": [
    "class Fibonaccilterator:\n",
    "    def __init__(self, num_terms):\n",
    "        self.num_terms = num_terms\n",
    "        self.current_term = 0\n",
    "        self.a, self.b = 0, 1\n",
    "        \n",
    "    def __iter__(self):\n",
    "        return self\n",
    "    \n",
    "    def _next__(self):\n",
    "        if self.current_term < self.num\n",
    "        fib_num = self.a\n",
    "        self.a, self.b = self.b, self.a + self.b\n",
    "        s\n"
   ]
  },
  {
   "cell_type": "code",
   "execution_count": null,
   "id": "fbc4b506-a3dd-40c3-8b58-d40b2c7fb578",
   "metadata": {},
   "outputs": [],
   "source": []
  },
  {
   "cell_type": "markdown",
   "id": "ff4b1be7-dfd6-4d0f-a180-41a7e0709017",
   "metadata": {},
   "source": [
    "Ans 6:- "
   ]
  },
  {
   "cell_type": "code",
   "execution_count": 30,
   "id": "dd9d027a-c216-4cfa-ac00-d329fbf73320",
   "metadata": {},
   "outputs": [],
   "source": [
    "def power_of_two(max_exponent):\n",
    "    for exponent in range(max_exponent + 1):\n",
    "        yield 2 ** exponent"
   ]
  },
  {
   "cell_type": "code",
   "execution_count": 33,
   "id": "fca28aee-1d9e-4863-909c-4dc3776f32af",
   "metadata": {},
   "outputs": [
    {
     "name": "stdout",
     "output_type": "stream",
     "text": [
      "1\n",
      "2\n",
      "4\n",
      "8\n",
      "16\n",
      "32\n",
      "64\n",
      "128\n",
      "256\n"
     ]
    }
   ],
   "source": [
    "for power in power_of_two(8):\n",
    "    print(power)"
   ]
  },
  {
   "cell_type": "markdown",
   "id": "b2453826-4189-492b-93e5-7fce9b0b2797",
   "metadata": {},
   "source": [
    "Ans 7:-"
   ]
  },
  {
   "cell_type": "code",
   "execution_count": null,
   "id": "29ffdea1-14f2-497e-b2e9-cd9709628a93",
   "metadata": {},
   "outputs": [],
   "source": [
    "def file_writer_generator(file_name, lines):\n",
    "    with open(file_name, 'w') as file:\n",
    "        for line in lines:\n",
    "            file.writer(line + '\\n')\n",
    "            yield line"
   ]
  },
  {
   "cell_type": "code",
   "execution_count": null,
   "id": "f79beb23-4f29-4159-8d1f-100c8c2f7691",
   "metadata": {},
   "outputs": [],
   "source": [
    "lines_to_write = [\"Hello\", \"Diksha\", \"This is\", \"a henerator function\"]\n",
    "file_name = \"example.txt\n",
    "for line in\n",
    "file_writer_generator(file_name, lines_to_write):\n",
    "    print(f\"Written line: {line}\")"
   ]
  },
  {
   "cell_type": "markdown",
   "id": "c5b07613-8e62-4119-9db8-1f62b70e5068",
   "metadata": {},
   "source": [
    "Ans 8:-"
   ]
  },
  {
   "cell_type": "code",
   "execution_count": 46,
   "id": "90a1a80f-d7f3-453e-8ceb-08a592d064cc",
   "metadata": {},
   "outputs": [
    {
     "name": "stdout",
     "output_type": "stream",
     "text": [
      "[(1, 4), (2, 7), (5, 8)]\n"
     ]
    }
   ],
   "source": [
    "data = [(1, 4), (2, 7), (5, 8)]\n",
    "sorted_data = sorted(data, key = lambda x:x[1])\n",
    "print(sorted_data)"
   ]
  },
  {
   "cell_type": "markdown",
   "id": "af4b2940-58ae-4900-84e5-3d3ef758dc9e",
   "metadata": {},
   "source": [
    "Ans 9:-"
   ]
  },
  {
   "cell_type": "code",
   "execution_count": 51,
   "id": "bb1f3355-63da-4fcb-a580-f531a37fbf35",
   "metadata": {},
   "outputs": [],
   "source": [
    "def celsius_to_fahrenheit(celsius_temps):\n",
    "    return[(temp * 9/5) + 45 for temp in celsius_temps]"
   ]
  },
  {
   "cell_type": "code",
   "execution_count": 52,
   "id": "390d577e-155e-4541-9051-c4ceee233887",
   "metadata": {},
   "outputs": [
    {
     "name": "stdout",
     "output_type": "stream",
     "text": [
      "[45.0, 97.2, 133.2, 225.0]\n"
     ]
    }
   ],
   "source": [
    "celsius_temps = [0, 29, 49, 100]\n",
    "fahrenheit_temps = celsius_to_fahrenheit(celsius_temps)\n",
    "print(fahrenheit_temps)"
   ]
  },
  {
   "cell_type": "markdown",
   "id": "251f747e-f41a-4561-8f8b-27f651dc8022",
   "metadata": {},
   "source": [
    "Ans 10:-"
   ]
  },
  {
   "cell_type": "code",
   "execution_count": 53,
   "id": "7a068b3b-1438-4773-811e-7b6ae850c73f",
   "metadata": {},
   "outputs": [],
   "source": [
    "def remove_vowels(input_string):\n",
    "    vowels = \"aeiouAEIOU\"\n",
    "    return ''.join(filter(lambda char: char.lower() not in vowels, input_string))"
   ]
  },
  {
   "cell_type": "code",
   "execution_count": 55,
   "id": "a6a7d486-7d35-4f2a-81fb-3231e6e026b1",
   "metadata": {},
   "outputs": [
    {
     "name": "stdout",
     "output_type": "stream",
     "text": [
      "yy, Wrld!\n"
     ]
    }
   ],
   "source": [
    "input_string = \"oyy, World!\"\n",
    "result = remove_vowels(input_string)\n",
    "print(result)"
   ]
  },
  {
   "cell_type": "markdown",
   "id": "07569227-6459-43b4-aff2-6bdcbbcd8329",
   "metadata": {},
   "source": [
    "Ans 11:-"
   ]
  },
  {
   "cell_type": "code",
   "execution_count": 57,
   "id": "29daa98a-286e-4aa7-b619-698eac4f1954",
   "metadata": {},
   "outputs": [],
   "source": [
    "# list of orders provided in question\n",
    "orders = [\n",
    "    [3456, \"Learning Python, Mark Lutz\", 4, 40.95],\n",
    "    [98762, \"Programming Python, Mark Lutz\", 5, 56.80],\n",
    "    [77226, \"Head First Python, Paul Barry\", 3, 32.95],\n",
    "    [88112, \"Einfuhrung in Python3, Bernd Klein\", 3, 24.99]\n",
    "]"
   ]
  },
  {
   "cell_type": "code",
   "execution_count": 61,
   "id": "72848fb3-5c76-4ef6-a699-eae7aefc9346",
   "metadata": {},
   "outputs": [
    {
     "name": "stdout",
     "output_type": "stream",
     "text": [
      "[(3456, 163.8), (98762, 284.0), (77226, 108.85), (88112, 84.97)]\n"
     ]
    }
   ],
   "source": [
    "# FUnction to calculate the total price and apply the condition\n",
    "calculate_price = lambda order: (order[0], round(order[2] *\n",
    "order[3], 2) + (10 if order[2] *\n",
    "order[3] < 100 else 0))\n",
    "\n",
    "#Using map to apply the function to each order\n",
    "updated_orders = list(map(calculate_price, orders))\n",
    "print(updated_orders)"
   ]
  },
  {
   "cell_type": "code",
   "execution_count": null,
   "id": "d591e242-cd31-4425-9254-6479b060ff7b",
   "metadata": {},
   "outputs": [],
   "source": []
  },
  {
   "cell_type": "code",
   "execution_count": null,
   "id": "0a8c10e0-020f-49f1-870a-fdf3e0885654",
   "metadata": {},
   "outputs": [],
   "source": []
  },
  {
   "cell_type": "code",
   "execution_count": null,
   "id": "86b2980c-5ab6-4b9e-878a-13e579befafc",
   "metadata": {},
   "outputs": [],
   "source": []
  },
  {
   "cell_type": "code",
   "execution_count": null,
   "id": "837492a7-4b6b-4bfe-b151-91dedc2e2621",
   "metadata": {},
   "outputs": [],
   "source": []
  }
 ],
 "metadata": {
  "kernelspec": {
   "display_name": "Python 3 (ipykernel)",
   "language": "python",
   "name": "python3"
  },
  "language_info": {
   "codemirror_mode": {
    "name": "ipython",
    "version": 3
   },
   "file_extension": ".py",
   "mimetype": "text/x-python",
   "name": "python",
   "nbconvert_exporter": "python",
   "pygments_lexer": "ipython3",
   "version": "3.10.8"
  }
 },
 "nbformat": 4,
 "nbformat_minor": 5
}
