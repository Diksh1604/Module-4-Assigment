{
 "cells": [
  {
   "cell_type": "markdown",
   "id": "c1f33f9b-9b98-448e-b566-3224d529d69d",
   "metadata": {},
   "source": [
    "\n",
    "Functions Assigment:-"
   ]
  },
  {
   "cell_type": "markdown",
   "id": "31c787a4-2c04-4d3a-b7f6-2139a81dbf3c",
   "metadata": {},
   "source": [
    "                          Therory Questions:-"
   ]
  },
  {
   "cell_type": "markdown",
   "id": "3d0df39f-ff29-4173-a0ba-0ab69cb4612c",
   "metadata": {},
   "source": [
    "Ans1:- In python the terms \"functions\" and \"method\" are often use but there is a key difference between them:\n",
    "    a)Function:- It is a block of reusable code which is not bound to any object it define outside of class and also calles as independently.Function doesn't requrie an instance and can't modify the object's internal sate.\n",
    "    b)Method:- It is a function that associated with an object and defined as class.\n",
    "Main key differnce between function and method is 'method' requires a instance to called and have access or modify the object's internal sate where 'function' didn't do this.\n",
    "Exapmles below:-"
   ]
  },
  {
   "cell_type": "code",
   "execution_count": 14,
   "id": "c647af36-1eef-41c7-996f-e900ef835033",
   "metadata": {},
   "outputs": [
    {
     "name": "stdout",
     "output_type": "stream",
     "text": [
      "woof!\n"
     ]
    }
   ],
   "source": [
    "#Method\n",
    "class cat:\n",
    "    def meww(self):\n",
    "        return \"woof!\"\n",
    "my_cat = cat()\n",
    "print(my_cat.meww())"
   ]
  },
  {
   "cell_type": "code",
   "execution_count": 15,
   "id": "d2c372b7-56e5-4e17-8a70-21f13385a9ab",
   "metadata": {},
   "outputs": [
    {
     "name": "stdout",
     "output_type": "stream",
     "text": [
      "10\n"
     ]
    }
   ],
   "source": [
    "#Function\n",
    "def add_number(a, b):\n",
    "    return a+b\n",
    "result = add_number(7, 3)\n",
    "print(result)"
   ]
  },
  {
   "cell_type": "markdown",
   "id": "4628fc0a-21d9-48bf-87f0-cdf993415cae",
   "metadata": {},
   "source": [
    "Ans2:- Parameters:- Parameters are the variable listed inside the parentheses in function definition.They play a role like placeholeders for values that passed to function.\n",
    "       Arugments:- Arugments are actual values that provide to function when you csll it. These values assigned to parameters defined in the function.There are types of Arguments.\n",
    "Types of arguments:-\n",
    "a) Positional Arguments\n",
    "b) Keyword Arguments\n",
    "c) Defalut Arguments\n",
    "d) Variable length Arguments\n",
    "Examples Below:-"
   ]
  },
  {
   "cell_type": "code",
   "execution_count": 17,
   "id": "7df50315-9915-4361-8697-b44b553bdea1",
   "metadata": {},
   "outputs": [
    {
     "name": "stdout",
     "output_type": "stream",
     "text": [
      "50\n"
     ]
    }
   ],
   "source": [
    "#Parameters\n",
    "def multiply(a, b):\n",
    "    return a*b\n",
    "result = multiply(5, 10)\n",
    "print(result)"
   ]
  },
  {
   "cell_type": "code",
   "execution_count": 18,
   "id": "dde62b04-2ecb-45ac-a66c-8bb34111ac07",
   "metadata": {},
   "outputs": [
    {
     "name": "stdout",
     "output_type": "stream",
     "text": [
      "Hello, Diksha!\n"
     ]
    }
   ],
   "source": [
    "#Arugments\n",
    "def greeting(name):\n",
    "    print(f\"Hello, {name}!\")\n",
    "greeting(\"Diksha\")"
   ]
  },
  {
   "cell_type": "markdown",
   "id": "40f67ec0-378e-41fd-8632-dd9adc0b4253",
   "metadata": {},
   "source": [
    "Ans3:- Different ways to define and cell functions in python are:-"
   ]
  },
  {
   "cell_type": "markdown",
   "id": "c00ad3c0-3889-4d84-b900-4d088f22623d",
   "metadata": {},
   "source": [
    "a)Basic Function Definition and call:- It is straightforward way to define a function is by using a def keyword.\n",
    "    Example mention below:-"
   ]
  },
  {
   "cell_type": "code",
   "execution_count": 11,
   "id": "a0df5401-9f12-4a91-942d-4ba5be6c6f94",
   "metadata": {},
   "outputs": [
    {
     "name": "stdout",
     "output_type": "stream",
     "text": [
      "Hello Diksha\n"
     ]
    }
   ],
   "source": [
    "def greet(name):\n",
    "    return f\"Hey, {Diksha}!\"\n",
    "print(\"Hello Diksha\")"
   ]
  },
  {
   "cell_type": "markdown",
   "id": "142f345a-4e3b-4bc8-a76c-9e44b3f3e52f",
   "metadata": {},
   "source": [
    "b)Lambda:-These functions are small, unnamed function.\n",
    "     Example mention below:-"
   ]
  },
  {
   "cell_type": "code",
   "execution_count": 13,
   "id": "b41174ff-a327-4723-bbc2-23b04e4261c1",
   "metadata": {},
   "outputs": [
    {
     "name": "stdout",
     "output_type": "stream",
     "text": [
      "36\n"
     ]
    }
   ],
   "source": [
    "square = lambda x: x * x\n",
    "result = square(6)\n",
    "print(result)"
   ]
  },
  {
   "cell_type": "markdown",
   "id": "18fc6e08-8d6f-456b-aae9-fa6669b744fd",
   "metadata": {},
   "source": [
    "c)Callable Class Instances:- In this function the classes can be made callable like function by the__call__method.\n",
    "        Example Below:-"
   ]
  },
  {
   "cell_type": "code",
   "execution_count": 55,
   "id": "c66d977a-c32f-469d-b604-1d1e5fffcec1",
   "metadata": {},
   "outputs": [],
   "source": [
    "class multiplier:\n",
    "    def __init__(self, factor):\n",
    "        self.factor = factor\n",
    "        \n",
    "        def __call__(self, number):\n",
    "            return number * self.factor"
   ]
  },
  {
   "cell_type": "markdown",
   "id": "b8e6aa43-6eb0-449b-81c5-d69becdfaee1",
   "metadata": {},
   "source": [
    "d)Recursive Functions:- This function used to solve problem that can broke down into similar sub problems.\n",
    "             Example Below:-"
   ]
  },
  {
   "cell_type": "code",
   "execution_count": 22,
   "id": "880b5c4b-d7e1-4b89-bf83-61077716aebf",
   "metadata": {},
   "outputs": [
    {
     "name": "stdout",
     "output_type": "stream",
     "text": [
      "720\n"
     ]
    }
   ],
   "source": [
    "def factorial(n):\n",
    "    if n == 1:\n",
    "        return 1\n",
    "    else:\n",
    "        return n * factorial(n-1)\n",
    "result = factorial(6)\n",
    "print(result)"
   ]
  },
  {
   "cell_type": "markdown",
   "id": "1a90ba6c-8e43-4ea1-8dcf-17176e6f619a",
   "metadata": {},
   "source": [
    "e)Function as object:- This function are first class object they can passed around aruguments to other functions or assigned to variable.\n",
    "                      Example Below:-"
   ]
  },
  {
   "cell_type": "code",
   "execution_count": 23,
   "id": "e6376223-b213-422e-9420-f4fe85c43a3b",
   "metadata": {},
   "outputs": [
    {
     "name": "stdout",
     "output_type": "stream",
     "text": [
      "13\n"
     ]
    }
   ],
   "source": [
    "def add(a, b):\n",
    "    return a + b\n",
    "operation = add\n",
    "result = operation(5, 8)\n",
    "print(result)"
   ]
  },
  {
   "cell_type": "markdown",
   "id": "a681f5be-50cc-4cb3-ac6e-56afd8ace5c8",
   "metadata": {},
   "source": [
    "f)Nested Functions:-It can defined with other functions, allows for creating closures.\n",
    "                Example Below:-"
   ]
  },
  {
   "cell_type": "code",
   "execution_count": 24,
   "id": "778334ee-4669-4121-908d-0c7d45ae4ea3",
   "metadata": {},
   "outputs": [
    {
     "name": "stdout",
     "output_type": "stream",
     "text": [
      "HEY\n"
     ]
    }
   ],
   "source": [
    "def outer_function(text):\n",
    "    def inner_function():\n",
    "        return text.upper()\n",
    "    return inner_function()\n",
    "result = outer_function(\"Hey\")\n",
    "print(result)"
   ]
  },
  {
   "cell_type": "markdown",
   "id": "87db6f60-9093-4c7b-8871-a7a46e065318",
   "metadata": {},
   "source": [
    "Ans4:- Purpose of return statement in python function:-\n",
    "\n",
    "a)Retrieve Result from Function : It allows a function to compute and provide a result that can be used later in program.\n",
    "\n",
    "b)Control Function Flow : It stop excuting as soon as hits a return statement,which can useful for early exists in certain condition.\n",
    "        Example Below:-"
   ]
  },
  {
   "cell_type": "code",
   "execution_count": 30,
   "id": "91db43dd-30d5-4f47-8c6e-c967fe32ef00",
   "metadata": {},
   "outputs": [],
   "source": [
    "#Retrieve Result\n",
    "def calculate_area(length, width):\n",
    "    area = length * width\n",
    "    return area "
   ]
  },
  {
   "cell_type": "code",
   "execution_count": 31,
   "id": "20cf520a-5d92-4a84-8cb7-4d7ffdd92320",
   "metadata": {},
   "outputs": [
    {
     "name": "stdout",
     "output_type": "stream",
     "text": [
      "32\n"
     ]
    }
   ],
   "source": [
    "#Call the function with length 8, 4\n",
    "rectangle_area = calculate_area(8, 4)\n",
    "print(rectangle_area)"
   ]
  },
  {
   "cell_type": "code",
   "execution_count": 39,
   "id": "1f31bed5-4ebf-4c5d-a2bf-f4377845b811",
   "metadata": {},
   "outputs": [],
   "source": [
    "#Control Function Flow\n",
    "def check_positive(number):\n",
    "    if number <= 0 :\n",
    "        return \"The number is not positive\"\n",
    "    return \"The number is positive!\""
   ]
  },
  {
   "cell_type": "code",
   "execution_count": 40,
   "id": "ee0a3bb8-c96f-4dfa-84d8-58db5d8b8706",
   "metadata": {},
   "outputs": [],
   "source": [
    "#Call the fnction with different numbers\n",
    "result1 = check_positive(8)\n",
    "result2 = check_positive(-6)"
   ]
  },
  {
   "cell_type": "code",
   "execution_count": 41,
   "id": "15cb43f1-d696-46b9-93be-dbc02f950710",
   "metadata": {},
   "outputs": [
    {
     "name": "stdout",
     "output_type": "stream",
     "text": [
      "The number is positive!\n"
     ]
    }
   ],
   "source": [
    "print(result1)"
   ]
  },
  {
   "cell_type": "code",
   "execution_count": 42,
   "id": "411f02b1-61c5-4d7c-800f-2b5593bd734a",
   "metadata": {},
   "outputs": [
    {
     "name": "stdout",
     "output_type": "stream",
     "text": [
      "The number is not positive\n"
     ]
    }
   ],
   "source": [
    "print(result2)"
   ]
  },
  {
   "cell_type": "markdown",
   "id": "6bf0f511-7ff3-4375-8ed8-3d26780db3f4",
   "metadata": {},
   "source": [
    "Ans5:- Iterator :- It is a object respesting a stream of data.It's a process of looping through the elements fof an iter(string)\n",
    "\n",
    "Iterable :- It is python object/sequencetial str/data structure that is capable of returing it's number.Use number at a time. \n",
    "\n",
    "Example of Iterable:- lists, tuples, string, sets, dictionaries.\n",
    "\n",
    "Example of Iterator:- iter(list))"
   ]
  },
  {
   "cell_type": "code",
   "execution_count": 43,
   "id": "65d588aa-e7d6-4024-9df0-a39d07f537e0",
   "metadata": {},
   "outputs": [
    {
     "name": "stdout",
     "output_type": "stream",
     "text": [
      "1\n",
      "2\n",
      "Diksha\n"
     ]
    }
   ],
   "source": [
    "#iterable\n",
    "lis = [1, 2, \"Diksha\"]\n",
    "for i in lis:\n",
    "    print(i)"
   ]
  },
  {
   "cell_type": "code",
   "execution_count": 44,
   "id": "b711d894-268e-44e0-bdf1-97dbde9a2614",
   "metadata": {},
   "outputs": [
    {
     "name": "stdout",
     "output_type": "stream",
     "text": [
      "p\n",
      "w\n",
      "s\n",
      "k\n",
      "i\n",
      "l\n",
      "l\n",
      "s\n"
     ]
    }
   ],
   "source": [
    "#iterator\n",
    "for i in \"pwskills\":\n",
    "    print(i)"
   ]
  },
  {
   "cell_type": "markdown",
   "id": "cfb1d771-80dc-456e-a56a-dfd750711553",
   "metadata": {},
   "source": [
    "Ans6:- Generator Function is a special type of python that allows us to irrate over squence of values without storig full sequence in memory. It's keyword is yeild to retur value and pauses its state so that it resumed later. \n",
    "          \n",
    "          Exaample Below:-\n",
    "        "
   ]
  },
  {
   "cell_type": "code",
   "execution_count": 48,
   "id": "ac068ba1-bf72-4406-a483-4b82a17cf58a",
   "metadata": {},
   "outputs": [],
   "source": [
    "def count_up_to(max):\n",
    "    count = 2\n",
    "    while count <= max:\n",
    "        yield count\n",
    "        count += 2"
   ]
  },
  {
   "cell_type": "code",
   "execution_count": 50,
   "id": "18b94755-10b3-4948-8380-690996707d2c",
   "metadata": {},
   "outputs": [
    {
     "name": "stdout",
     "output_type": "stream",
     "text": [
      "2\n",
      "4\n",
      "6\n",
      "8\n",
      "10\n"
     ]
    }
   ],
   "source": [
    "#Create a generator object\n",
    "counter = count_up_to(10)\n",
    "for number in counter:\n",
    "    print(number)"
   ]
  },
  {
   "cell_type": "markdown",
   "id": "59b452f5-06d2-4189-8d2d-3b4eb66d0354",
   "metadata": {},
   "source": [
    "Ans7:- Advantages of generator over regular function:-\n",
    "1) Memory Efficiency:\n",
    "a)Generates value on fly\n",
    "b)NO need to create large data\n",
    "2) Infinte Sequences:\n",
    "a)Efficiently infinte or very large sequences\n",
    "3) Improved Performance:\n",
    "a)Avoid uncessary\n",
    "b)Faster exceution\n",
    "        \n",
    "    Example Below:"
   ]
  },
  {
   "cell_type": "code",
   "execution_count": null,
   "id": "4c4c219a-261a-4fb8-94e7-70fe09131d19",
   "metadata": {},
   "outputs": [],
   "source": [
    "def square_number_generators(n):\n",
    "    if i in range(n):\n",
    "        yeild i ** 2"
   ]
  },
  {
   "cell_type": "markdown",
   "id": "5ce0df30-5175-4f8d-825f-d2d2a28d73f9",
   "metadata": {},
   "source": [
    "Ans8:- Lambda is a function has small, anonymous function defined using the lambda keyword python.\n",
    "It is aslo called anonymous function because they ont declared the standard def keyword and dont require any name.\n",
    "\n",
    "Lambda Typically used for simple operations or when function is use for short period of time.\n",
    "Main use in Inline Function and sorting/filtering data\n",
    "       \n",
    "    Example Below:"
   ]
  },
  {
   "cell_type": "code",
   "execution_count": 57,
   "id": "a50a5e24-0d13-46b4-b36b-6dc52046fc3b",
   "metadata": {},
   "outputs": [
    {
     "name": "stdout",
     "output_type": "stream",
     "text": [
      "14\n"
     ]
    }
   ],
   "source": [
    "lambda arguments: expression\n",
    "add = lambda x, y: x + y\n",
    "print(add(6, 8))"
   ]
  },
  {
   "cell_type": "markdown",
   "id": "ecee0dc4-04e6-4ec9-a418-c10e44978d62",
   "metadata": {},
   "source": [
    "Ans9:- Purpose of 'map()':- It is to transform each element of iterable which is according to function provided as an arugment.Allows to apply function to every item in sequence , simplifying tasks like formatting, processing data.\n",
    "\n",
    "Usage of Map:-  It's use to apply a function to every element in list when we want concise and readable way to do and it is use to conversion and formatting tasks.\n",
    "\n",
    "        Example Below:"
   ]
  },
  {
   "cell_type": "code",
   "execution_count": 58,
   "id": "a8e54bd9-e25c-42f2-9852-355d9bcac2a9",
   "metadata": {},
   "outputs": [
    {
     "name": "stdout",
     "output_type": "stream",
     "text": [
      "[1, 4, 9, 16, 25, 36, 49, 64, 81]\n"
     ]
    }
   ],
   "source": [
    "def square(x):\n",
    "    return x * x\n",
    "\n",
    "numbers = [1, 2, 3, 4, 5, 6, 7, 8, 9]\n",
    "squared_numbers = map(square,numbers)\n",
    "print(list(squared_numbers))"
   ]
  },
  {
   "cell_type": "markdown",
   "id": "2686507a-3d04-4128-822c-40e7d8bfda43",
   "metadata": {},
   "source": [
    "Ans10:- Difference between 'map()','filter()','reduce()'\n",
    "\n",
    "a) map():- Applies function to each item in iterable\n",
    "        \n",
    "        Example Below:-"
   ]
  },
  {
   "cell_type": "code",
   "execution_count": 1,
   "id": "4f56b277-4b3d-4aa5-8978-a065b0747173",
   "metadata": {},
   "outputs": [
    {
     "data": {
      "text/plain": [
       "['Python', 'Diksha']"
      ]
     },
     "execution_count": 1,
     "metadata": {},
     "output_type": "execute_result"
    }
   ],
   "source": [
    "words = [\"python\", \"Diksha\"]\n",
    "list(map(str.capitalize,words))"
   ]
  },
  {
   "cell_type": "markdown",
   "id": "fd7f17a3-0026-428c-af9f-73377c83fc21",
   "metadata": {},
   "source": [
    "b) filter():- It is a transformation of all elements.\n",
    " example Below:-"
   ]
  },
  {
   "cell_type": "code",
   "execution_count": 11,
   "id": "b75163a2-3f3c-4dcd-ab24-f3bff2c8fabd",
   "metadata": {},
   "outputs": [],
   "source": [
    "#Function to check if a number is even\n",
    "def is_even(x):\n",
    "    return x % 2 == 0\n",
    "\n",
    "numbers = [2, 4, 6, 4, 8, 10]"
   ]
  },
  {
   "cell_type": "code",
   "execution_count": 12,
   "id": "b96ed761-87fc-42fd-9954-cea06ded886e",
   "metadata": {},
   "outputs": [
    {
     "name": "stdout",
     "output_type": "stream",
     "text": [
      "[2, 4, 6, 4, 8, 10]\n"
     ]
    }
   ],
   "source": [
    "even_number = filter(is_even,numbers)\n",
    "print(list(even_number))"
   ]
  },
  {
   "cell_type": "markdown",
   "id": "5bd8baec-2aa9-441f-bff7-78d9e515b499",
   "metadata": {},
   "source": [
    "c)Reduce():- It applies a given function to the items of iterable reducing to single cumulative value.\n",
    "  Example Below:-"
   ]
  },
  {
   "cell_type": "code",
   "execution_count": 18,
   "id": "a711f513-6ef8-4502-9ef4-6bc451cbb1a1",
   "metadata": {},
   "outputs": [
    {
     "name": "stdout",
     "output_type": "stream",
     "text": [
      "22\n"
     ]
    }
   ],
   "source": [
    "from functools import reduce \n",
    "\n",
    "# Function to add two numbers\n",
    "def add(x, y):\n",
    "    return x + y\n",
    "\n",
    "numbers = [9, 2, 6, 4, 1]\n",
    "total_sum = reduce(add, numbers)\n",
    "\n",
    "print(total_sum)"
   ]
  },
  {
   "cell_type": "markdown",
   "id": "e94e0454-c853-4049-b9fb-2e31557e9fc9",
   "metadata": {},
   "source": [
    "Ans11:- Link Given Below:-"
   ]
  },
  {
   "cell_type": "markdown",
   "id": "cfdb454b-c6d8-4b14-8bc9-37c29bcfd110",
   "metadata": {},
   "source": [
    "https://drive.google.com/file/d/1p2p36KOBAFF3Dxf2DoyqTiF57ib4rGf-/view?usp=drivesdk"
   ]
  },
  {
   "cell_type": "code",
   "execution_count": null,
   "id": "1230951c-5c39-4c5f-8f76-d5e0f17477b7",
   "metadata": {},
   "outputs": [],
   "source": []
  }
 ],
 "metadata": {
  "kernelspec": {
   "display_name": "Python 3 (ipykernel)",
   "language": "python",
   "name": "python3"
  },
  "language_info": {
   "codemirror_mode": {
    "name": "ipython",
    "version": 3
   },
   "file_extension": ".py",
   "mimetype": "text/x-python",
   "name": "python",
   "nbconvert_exporter": "python",
   "pygments_lexer": "ipython3",
   "version": "3.10.8"
  }
 },
 "nbformat": 4,
 "nbformat_minor": 5
}
